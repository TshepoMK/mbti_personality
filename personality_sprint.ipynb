{
  "cells": [
    {
      "metadata": {
        "_uuid": "7151817d002f6c8a6e3d86d5c05474d9de4c86a6"
      },
      "cell_type": "markdown",
      "source": "# 1. Importing libraries"
    },
    {
      "metadata": {
        "trusted": true,
        "collapsed": true,
        "_uuid": "29171e9e7bfa00a3024ba627a658a5e2ca8b1056"
      },
      "cell_type": "code",
      "source": "import re\nimport os\nimport time\nimport string\nimport numpy as np\nimport pandas as pd\nimport seaborn as sns\nimport matplotlib.pyplot as plt\nfrom wordcloud import WordCloud ",
      "execution_count": null,
      "outputs": []
    },
    {
      "metadata": {
        "trusted": true,
        "_uuid": "c0bfbf3b3a536f1224f39308f02022fa3ea160b3",
        "collapsed": true
      },
      "cell_type": "code",
      "source": "from sklearn.manifold import TSNE\nfrom sklearn.pipeline import Pipeline\nfrom sklearn.metrics import roc_curve, auc\nfrom sklearn.cross_validation import train_test_split\nfrom sklearn.feature_extraction.text import CountVectorizer\nfrom sklearn.feature_extraction.text import TfidfTransformer\nfrom sklearn.metrics import classification_report, confusion_matrix",
      "execution_count": null,
      "outputs": []
    },
    {
      "metadata": {
        "trusted": true,
        "_uuid": "94ee966630c910e9509d998abef4d6c3fe4138e8",
        "collapsed": true
      },
      "cell_type": "code",
      "source": "import xgboost as xgb\nfrom sklearn.svm import SVC\nfrom sklearn.utils import resample\nfrom sklearn import neural_network\nfrom sklearn.pipeline import Pipeline\nfrom sklearn.metrics import roc_curve, auc\nfrom sklearn.ensemble import VotingClassifier\nfrom sklearn.model_selection import GridSearchCV\nfrom sklearn.neural_network import MLPClassifier\nfrom sklearn.ensemble import RandomForestClassifier\nfrom sklearn.model_selection import cross_val_score\nfrom sklearn.cross_validation import train_test_split\nfrom imblearn.over_sampling import RandomOverSampler\nfrom sklearn.ensemble import GradientBoostingClassifier\nfrom sklearn.feature_extraction.text import CountVectorizer\nfrom sklearn.feature_extraction.text import TfidfTransformer\nfrom sklearn.metrics import classification_report, confusion_matrix\nfrom sklearn.ensemble import RandomForestClassifier, AdaBoostClassifier",
      "execution_count": null,
      "outputs": []
    },
    {
      "metadata": {
        "trusted": true,
        "collapsed": true,
        "_uuid": "ace42b6804de6fc9537f8d7aa9007d10171e849c"
      },
      "cell_type": "code",
      "source": "import nltk\nimport gensim  \nfrom nltk.util import ngrams\nfrom nltk.corpus import stopwords\nfrom nltk.corpus import stopwords\nfrom nltk.stem import WordNetLemmatizer\nfrom nltk.tokenize import word_tokenize, TreebankWordTokenizer\nfrom nltk import SnowballStemmer, PorterStemmer, LancasterStemmer",
      "execution_count": null,
      "outputs": []
    },
    {
      "metadata": {
        "_uuid": "a095f943a25eb19658595d56db267d09057e8fb9"
      },
      "cell_type": "markdown",
      "source": "  # 2. Import, inspect and cleaning training data"
    },
    {
      "metadata": {
        "_cell_guid": "79c7e3d0-c299-4dcb-8224-4455121ee9b0",
        "_uuid": "d629ff2d2480ee46fbb7e2d37f6b5fab8052498a",
        "trusted": true,
        "collapsed": true
      },
      "cell_type": "code",
      "source": "data = pd.read_csv('../input/train/train.csv')",
      "execution_count": null,
      "outputs": []
    },
    {
      "metadata": {
        "trusted": true,
        "_uuid": "723caeec7f9259ad323cd12131c78743338cb543",
        "collapsed": true
      },
      "cell_type": "code",
      "source": "data['type'].value_counts().plot(kind = 'bar')\nplt.show()",
      "execution_count": null,
      "outputs": []
    },
    {
      "metadata": {
        "trusted": true,
        "_uuid": "36cacedfa75fbb2ea053f035d5b250abe6697244",
        "collapsed": true
      },
      "cell_type": "code",
      "source": "## read the data\nmbti = data\n\n## split the rows\nall_mbti = []\nfor i, row in mbti.iterrows():\n    for post in row['posts'].split('|||'):\n        all_mbti.append([row['type'], post])\nall_mbti = pd.DataFrame(all_mbti, columns=['type', 'post'])\n\n## remove urls\npattern_url = r'http[s]?://(?:[A-Za-z]|[0-9]|[$-_@.&+]|[!*\\(\\),]|(?:%[0-9A-Fa-f][0-9A-Fa-f]))+'\nsubs_url = r'urlweb'\nall_mbti['post'] = all_mbti['post'].replace(to_replace = pattern_url, value = subs_url, regex = True)\n\n# make lower case\nall_mbti['post'] = all_mbti['post'].str.lower()\n\n#remove punctuation\nimport string\ndef remove_punctuation_numbers(post):\n    punc_numbers = string.punctuation + '0123456789'\n    return ''.join([l for l in post if l not in punc_numbers])\nall_mbti['post'] = all_mbti['post'].apply(remove_punctuation_numbers)",
      "execution_count": null,
      "outputs": []
    },
    {
      "metadata": {
        "trusted": true,
        "_uuid": "47e92ae990fd2c746cc5de14ba04694243c4579b",
        "collapsed": true
      },
      "cell_type": "code",
      "source": "all_mbti.head()",
      "execution_count": null,
      "outputs": []
    },
    {
      "metadata": {
        "trusted": true,
        "_uuid": "57f6d8d1795e2ef19bacb8a5e0e9d7a71d9a710a",
        "collapsed": true
      },
      "cell_type": "code",
      "source": "all_mbti.describe()",
      "execution_count": null,
      "outputs": []
    },
    {
      "metadata": {
        "trusted": true,
        "collapsed": true,
        "_uuid": "4e748a8cd523f11c80b1708e136039a77047001c"
      },
      "cell_type": "code",
      "source": "all_mbti['post_length'] = all_mbti['post'].apply(len)",
      "execution_count": null,
      "outputs": []
    },
    {
      "metadata": {
        "trusted": true,
        "_uuid": "dc3080546d0257267ac4a769519d4032998495f0",
        "collapsed": true
      },
      "cell_type": "code",
      "source": "all_mbti.head()",
      "execution_count": null,
      "outputs": []
    },
    {
      "metadata": {
        "trusted": true,
        "_uuid": "b744c7d8a21a04cdeb91f45321969c6725f4b211",
        "collapsed": true
      },
      "cell_type": "code",
      "source": "all_mbti.describe()",
      "execution_count": null,
      "outputs": []
    },
    {
      "metadata": {
        "trusted": true,
        "_uuid": "9fc019f3712cead8a90cbd1f1068f0f645bd4d80",
        "collapsed": true
      },
      "cell_type": "code",
      "source": "mu, sigma = 138, 65\n# the histogram of the data\nn, bins, patches = plt.hist(all_mbti['post_length'],  facecolor='green', alpha=0.75)\nplt.xlabel('Post Character Length')\nplt.title(r'$\\mathrm{Distribution\\ of\\ Post\\ Length:}\\ \\mu=138,\\ \\sigma=65$')\nplt.axis([0, 200, 0, 160000])\nplt.ylabel('Count')\nplt.grid(True)\nplt.show()",
      "execution_count": null,
      "outputs": []
    },
    {
      "metadata": {
        "trusted": true,
        "_uuid": "142176a834128b75b7faf057bc872c7f7ea603a5",
        "collapsed": true
      },
      "cell_type": "code",
      "source": "all_mbti.head()",
      "execution_count": null,
      "outputs": []
    },
    {
      "metadata": {
        "trusted": true,
        "_uuid": "8bb6f45cccb983a4407855c0e97d16d01a335460",
        "collapsed": true
      },
      "cell_type": "code",
      "source": "all_mbti.describe()",
      "execution_count": null,
      "outputs": []
    },
    {
      "metadata": {
        "trusted": true,
        "_uuid": "805e023303779874a640cf26c6fdc2b35d40ecbd",
        "collapsed": true
      },
      "cell_type": "code",
      "source": "all_mbti['post'][all_mbti['post_length'] == 200]",
      "execution_count": null,
      "outputs": []
    },
    {
      "metadata": {
        "trusted": true,
        "collapsed": true,
        "_uuid": "4c159e42ab22ee9786c4fb18426d54ab0e186282"
      },
      "cell_type": "code",
      "source": "all_mbti = all_mbti[all_mbti.post != all_mbti['post'][90524]]\nall_mbti = all_mbti[all_mbti.post != all_mbti['post'][178121]]\nall_mbti = all_mbti[all_mbti.post != all_mbti['post'][196595]]\nall_mbti = all_mbti[all_mbti.post != all_mbti['post'][270750]]\nall_mbti = all_mbti[all_mbti.post != all_mbti['post'][97314]]\nall_mbti = all_mbti[all_mbti.post != 'urlweb']\nall_mbti = all_mbti[all_mbti.post_length != 1]",
      "execution_count": null,
      "outputs": []
    },
    {
      "metadata": {
        "trusted": true,
        "_uuid": "2b829b7712123ee3f57e1719703a7bfcbabe566e",
        "collapsed": true
      },
      "cell_type": "code",
      "source": "all_mbti.head()",
      "execution_count": null,
      "outputs": []
    },
    {
      "metadata": {
        "_uuid": "2156eea0151119124020af45c67fbb6aad3d737d"
      },
      "cell_type": "markdown",
      "source": "# 3. Natural Language Processing"
    },
    {
      "metadata": {
        "trusted": true,
        "collapsed": true,
        "_uuid": "de41eed9472a0ef06a8e1b5ec64bae84706dd6e7"
      },
      "cell_type": "code",
      "source": "tokeniser = TreebankWordTokenizer()\nall_mbti['tokens'] = all_mbti['post'].apply(tokeniser.tokenize)",
      "execution_count": null,
      "outputs": []
    },
    {
      "metadata": {
        "trusted": true,
        "_uuid": "07dccc02b978e8132532ccd70782c669797da0f7",
        "collapsed": true
      },
      "cell_type": "code",
      "source": "all_mbti.head()",
      "execution_count": null,
      "outputs": []
    },
    {
      "metadata": {
        "trusted": true,
        "collapsed": true,
        "_uuid": "6cd62ac25d01dd895ffa9c90ee79117b58fc93da"
      },
      "cell_type": "code",
      "source": "# find the stem of each word in words\nstemmer = SnowballStemmer('english')\n\ndef mbti_stemmer(words, stemmer):\n    \"transforms all words in the given dataframe to their stems\"\n    \n    return [stemmer.stem(word) for word in words] \n\n# Apply stemmer\nall_mbti['stem'] = all_mbti['tokens'].apply(mbti_stemmer, args=(stemmer, ))",
      "execution_count": null,
      "outputs": []
    },
    {
      "metadata": {
        "trusted": true,
        "_uuid": "71f12f02fd875efcb295d5e6af512ef54ebd63fd",
        "collapsed": true
      },
      "cell_type": "code",
      "source": "all_mbti.drop('tokens', axis=1, inplace=True)\nall_mbti.head()",
      "execution_count": null,
      "outputs": []
    },
    {
      "metadata": {
        "trusted": true,
        "collapsed": true,
        "_uuid": "c2a9ab6da3f04fae577a61a33ad0d56cf03d5027"
      },
      "cell_type": "code",
      "source": "lemmatizer = WordNetLemmatizer()\ndef mbti_lemma(words, lemmatizer):\n    \"lemmatizes all words in dataframe\"\n    return [lemmatizer.lemmatize(word, pos='v') for word in words]\n\n# Apply lemmatizer\nall_mbti['lemma'] = all_mbti['stem'].apply(mbti_lemma, args=(lemmatizer, ))",
      "execution_count": null,
      "outputs": []
    },
    {
      "metadata": {
        "trusted": true,
        "_uuid": "ed6a08f4b2de3d48ecd6124a4c7b6c4a54f17724",
        "collapsed": true
      },
      "cell_type": "code",
      "source": "all_mbti.drop('stem', axis=1, inplace=True)\nall_mbti.head()",
      "execution_count": null,
      "outputs": []
    },
    {
      "metadata": {
        "trusted": true,
        "collapsed": true,
        "_uuid": "5713300c96ffc73efd3452c0a51688ea2124c086"
      },
      "cell_type": "code",
      "source": "# Update stopwords with class names and other stop words without punctuation\nstopset = set(stopwords.words('english'))\nstopset.update(['istj', 'isfj', 'infj', 'intj', 'istp', 'isfp', 'infp', 'intp', \n                 'estp', 'esfp', 'enfp', 'entp', 'estj', 'esfj', 'enfj', 'entj', \n                'dtype', 'infps', 'theres', 'xxxjs', 'im', 'shes', 'arent', 'youve', \n                'youre', 'dont', 'urlweb'])\n\n\ndef remove_stop_words(tokens):\n    \"Removes stop words from the provided corpus\"\n    return [t for t in tokens if t not in stopset]\n\nall_mbti['stem_stop'] = all_mbti['lemma'].apply(remove_stop_words)",
      "execution_count": null,
      "outputs": []
    },
    {
      "metadata": {
        "trusted": true,
        "_uuid": "47ca663afb63fe3aa3fa4e99e4f6fe82d7ff64ac",
        "collapsed": true
      },
      "cell_type": "code",
      "source": "all_mbti.drop('lemma', axis=1, inplace=True)\nall_mbti.head()",
      "execution_count": null,
      "outputs": []
    },
    {
      "metadata": {
        "trusted": true,
        "collapsed": true,
        "_uuid": "aa03551b626f91a642e2cff552b97e5de7121edf"
      },
      "cell_type": "code",
      "source": "def join_string(tokens):\n    return \" \".join(str(token) for token in tokens) \n\nall_mbti['join_stop'] = all_mbti['stem_stop'].apply(join_string)",
      "execution_count": null,
      "outputs": []
    },
    {
      "metadata": {
        "trusted": true,
        "_uuid": "0ef385093839c92c15cca66446e005ad0d791214",
        "collapsed": true
      },
      "cell_type": "code",
      "source": "all_mbti.drop('stem_stop', axis=1, inplace=True)\nall_mbti.head()",
      "execution_count": null,
      "outputs": []
    },
    {
      "metadata": {
        "trusted": true,
        "_uuid": "bb7179d5c75a43636199afa384df896e5cd4ba15",
        "collapsed": true
      },
      "cell_type": "code",
      "source": "plt.figure(figsize=(20,10))\nwordcloud = WordCloud(background_color='white', mode = \"RGB\", width = 2000, height=1000).generate(str(all_mbti['join_stop']))\nplt.title(\"MBTI_TRAIN\")\nplt.imshow(wordcloud)\nplt.axis(\"off\")\nplt.show()",
      "execution_count": null,
      "outputs": []
    },
    {
      "metadata": {
        "_uuid": "814ceaa05179169ac269195cd59293c8fc1ecdbe"
      },
      "cell_type": "markdown",
      "source": "# 4. Build Classification Models"
    },
    {
      "metadata": {
        "_uuid": "15cd63cd0122f50ad62ffb0da53f6d4562547f78"
      },
      "cell_type": "markdown",
      "source": "## 4.1 Defining Features and Labels"
    },
    {
      "metadata": {
        "trusted": true,
        "collapsed": true,
        "_uuid": "e14b30e80593c51b0cd64c368baf47e3c2bf02bd"
      },
      "cell_type": "code",
      "source": "all_mbti['I/E'] = all_mbti['type'].apply(lambda x: x[0] == 'I').astype('int')\nall_mbti['N/S'] = all_mbti['type'].apply(lambda x: x[1] == 'N').astype('int')\nall_mbti['F/T'] = all_mbti['type'].apply(lambda x: x[2] == 'F').astype('int')\nall_mbti['P/J'] = all_mbti['type'].apply(lambda x: x[3] == 'P').astype('int')",
      "execution_count": null,
      "outputs": []
    },
    {
      "metadata": {
        "trusted": true,
        "_uuid": "539a505390fdf5761ffce3cf5634fb5a5484fe8b",
        "collapsed": true
      },
      "cell_type": "code",
      "source": "all_mbti.head()",
      "execution_count": null,
      "outputs": []
    },
    {
      "metadata": {
        "trusted": true,
        "collapsed": true,
        "_uuid": "bd2f71a26026ff282e16a9ce39a8aa1cc7627884"
      },
      "cell_type": "code",
      "source": "y_i = all_mbti['I/E']\ny_n = all_mbti['N/S']\ny_f = all_mbti['F/T']\ny_p = all_mbti['P/J']",
      "execution_count": null,
      "outputs": []
    },
    {
      "metadata": {
        "trusted": true,
        "collapsed": true,
        "_uuid": "16fc9a1160f79bb82188f19a00a4984bd3196e42"
      },
      "cell_type": "code",
      "source": "vect = CountVectorizer(min_df= .01)\nX = vect.fit_transform(all_mbti['join_stop'])",
      "execution_count": null,
      "outputs": []
    },
    {
      "metadata": {
        "trusted": true,
        "_uuid": "85b2c211c6d96041f424de1f90566a910ae2a46e",
        "collapsed": true
      },
      "cell_type": "code",
      "source": "type(X)",
      "execution_count": null,
      "outputs": []
    },
    {
      "metadata": {
        "trusted": true,
        "_uuid": "93e09dd1569ea4c5d076b900a59e7dfb3f1de89e",
        "collapsed": true
      },
      "cell_type": "code",
      "source": "X.shape",
      "execution_count": null,
      "outputs": []
    },
    {
      "metadata": {
        "_uuid": "d52491993334aca78ed2702c6d2ab885e59acde1"
      },
      "cell_type": "markdown",
      "source": "### 4.2.1 Introvert - Extrovert"
    },
    {
      "metadata": {
        "trusted": true,
        "_uuid": "8ba563e91d4ba52ecf549b9dd7a98b7edbd6a7ce",
        "collapsed": true
      },
      "cell_type": "code",
      "source": "all_mbti['I/E'].value_counts().plot(kind = 'bar')\nplt.title('Extrovert - Introvert')\nplt.show()",
      "execution_count": null,
      "outputs": []
    },
    {
      "metadata": {
        "trusted": true,
        "collapsed": true,
        "_uuid": "ead642019a16b183826ada8b771b63a19667d8cf"
      },
      "cell_type": "code",
      "source": "n = 5000\nX_train_i, X_test_i, y_train_i, y_test_i = train_test_split(X[:n].toarray(), y_i[:n])",
      "execution_count": null,
      "outputs": []
    },
    {
      "metadata": {
        "trusted": true,
        "_uuid": "cf62a63c96cd6b49728dac5447b30cc1a8ac2180",
        "collapsed": true
      },
      "cell_type": "code",
      "source": "# if we assume that everyone is introverted would give us this accuracy\ny_i_mean = np.mean(y_train_i)\ny_i_mean",
      "execution_count": null,
      "outputs": []
    },
    {
      "metadata": {
        "_uuid": "367cc8caf523c8af02342f53051e8b6947e74fa6"
      },
      "cell_type": "markdown",
      "source": " ### 4.2.2 iNtuition - Sensing"
    },
    {
      "metadata": {
        "trusted": true,
        "_uuid": "04e484df698b94a3771333a40347123787e5a35e",
        "collapsed": true
      },
      "cell_type": "code",
      "source": "all_mbti['N/S'].value_counts().plot(kind = 'bar')\nplt.title(' Sensing - Intuition')\nplt.show()",
      "execution_count": null,
      "outputs": []
    },
    {
      "metadata": {
        "trusted": true,
        "collapsed": true,
        "_uuid": "98d7b71ab05ef045a5411fb45a9480e93ce61535"
      },
      "cell_type": "code",
      "source": "n = 5000\nX_train_n, X_test_n, y_train_n, y_test_i = train_test_split(X[:n].toarray(), y_n[:n])",
      "execution_count": null,
      "outputs": []
    },
    {
      "metadata": {
        "trusted": true,
        "_uuid": "8f5d83b846b47f4e4f624b139ea53e50eecbbc47",
        "collapsed": true
      },
      "cell_type": "code",
      "source": "# if we assume that everyone is Intuitive give us this accuracy\ny_n_mean = np.mean(y_train_n)\ny_n_mean",
      "execution_count": null,
      "outputs": []
    },
    {
      "metadata": {
        "trusted": true,
        "_uuid": "ba3db4a67e91e16792dca8d8c056d6eb1cbcd5f3",
        "collapsed": true
      },
      "cell_type": "markdown",
      "source": "> ### 4.2.3 Feeling - Thinking"
    },
    {
      "metadata": {
        "trusted": true,
        "_uuid": "e13610e24be728dff459a677323f90a2ad5c897e",
        "collapsed": true
      },
      "cell_type": "code",
      "source": "all_mbti['F/T'].value_counts().plot(kind = 'bar')\nplt.title('Thinking - Feeling')\nplt.show()",
      "execution_count": null,
      "outputs": []
    },
    {
      "metadata": {
        "trusted": true,
        "collapsed": true,
        "_uuid": "54643f64100ffe04423ae5011909ead14b65ead6"
      },
      "cell_type": "code",
      "source": "n = 5000\nX_train_f, X_test_f, y_train_f, y_test_f = train_test_split(X[:n].toarray(), y_f[:n])",
      "execution_count": null,
      "outputs": []
    },
    {
      "metadata": {
        "trusted": true,
        "_uuid": "ca9bff7f1456551c33c18d2945d2ee8acba7c11d",
        "collapsed": true
      },
      "cell_type": "code",
      "source": "# if we assume that everyone is a 'Feeler' would give us this accuracy\ny_f_mean = np.mean(y_train_f)\ny_f_mean",
      "execution_count": null,
      "outputs": []
    },
    {
      "metadata": {
        "_uuid": "1d76733ae72d1b9cf298f33fbcf8a5cb3294af11"
      },
      "cell_type": "markdown",
      "source": "### 4.2.4  Perception - Judgement"
    },
    {
      "metadata": {
        "trusted": true,
        "_uuid": "775146fe644fe07bfe1f22a9994a5f3e74cfe40f",
        "collapsed": true
      },
      "cell_type": "code",
      "source": "all_mbti['P/J'].value_counts().plot(kind = 'bar')\nplt.title(' Judgement - Perception')\nplt.show()",
      "execution_count": null,
      "outputs": []
    },
    {
      "metadata": {
        "trusted": true,
        "collapsed": true,
        "_uuid": "d9c7e0ecd7da9fc773b572c166674cdd6e7d2de5"
      },
      "cell_type": "code",
      "source": "n = 5000\nX_train_p, X_test_p, y_train_p, y_test_p = train_test_split(X[:n].toarray(), y_p[:n])",
      "execution_count": null,
      "outputs": []
    },
    {
      "metadata": {
        "trusted": true,
        "_uuid": "d711bdfd04ac02d5699d3afd82a4041c561cf936",
        "collapsed": true
      },
      "cell_type": "code",
      "source": "# if we assume that everyone is perceptive would give us this accuracy\ny_p_mean = np.mean(y_train_p)\ny_p_mean",
      "execution_count": null,
      "outputs": []
    },
    {
      "metadata": {
        "_uuid": "55e58871fcfe961bf877ed71c3249a58a61a65c2"
      },
      "cell_type": "markdown",
      "source": ""
    },
    {
      "metadata": {
        "_uuid": "8f08f3d2621be9b0d2b3c3b609dbb3c8b5f6a12f"
      },
      "cell_type": "markdown",
      "source": "## 4.3  Dealing with Imbalanced Data "
    },
    {
      "metadata": {
        "trusted": true,
        "collapsed": true,
        "_uuid": "c372beb0acfc9ceb5c3b1abf9ad7065645b15ec3"
      },
      "cell_type": "code",
      "source": "ros = RandomOverSampler(ratio='auto', random_state=42)",
      "execution_count": null,
      "outputs": []
    },
    {
      "metadata": {
        "trusted": true,
        "_uuid": "775d030c2496d8dc69810091d7bf7d8894a3e9a4",
        "collapsed": true
      },
      "cell_type": "code",
      "source": "print ('Introvert vs Extrovert Class Mean: {}'.format(y_i_mean))\nprint ('iNtuition vs Sensing Class Mean: {}'.format(y_n_mean))\nprint ('Feeling vs Thinking Class Mean: {}'.format(y_f_mean))\nprint ('Perception vs Judgement Class Mean: {}'.format(y_p_mean))",
      "execution_count": null,
      "outputs": []
    },
    {
      "metadata": {
        "trusted": true,
        "_uuid": "0afa7548e4ea450f400eb907a91dd31b574aa80b",
        "collapsed": true
      },
      "cell_type": "code",
      "source": "# Balancing the Introvert vs Extrovert Class\nX_res_i, y_res_i = ros.fit_sample(X, y_i)",
      "execution_count": null,
      "outputs": []
    },
    {
      "metadata": {
        "trusted": true,
        "_uuid": "c99081f5a20e4fa1fa870ab584f495800e4e0d16",
        "collapsed": true
      },
      "cell_type": "code",
      "source": "y_p_mean = np.mean(y_res_i)\ny_p_mean",
      "execution_count": null,
      "outputs": []
    },
    {
      "metadata": {
        "trusted": true,
        "_uuid": "4e6dc6011a589f4412b07246afe57b2e839a4895",
        "collapsed": true
      },
      "cell_type": "code",
      "source": "X_res_i.shape",
      "execution_count": null,
      "outputs": []
    },
    {
      "metadata": {
        "trusted": true,
        "_uuid": "57612a542a6f5deb5efbffa191d516726cb17208",
        "collapsed": true
      },
      "cell_type": "code",
      "source": "y_res_i.shape",
      "execution_count": null,
      "outputs": []
    },
    {
      "metadata": {
        "trusted": true,
        "collapsed": true,
        "_uuid": "02e20d152dc7d5f672cd84410d20a137da478d23"
      },
      "cell_type": "code",
      "source": "n = 5000\nX_train_i, X_test_i, y_train_i, y_test_i = train_test_split(X_res_i[:n].toarray(), y_res_i[:n])",
      "execution_count": null,
      "outputs": []
    },
    {
      "metadata": {
        "trusted": true,
        "_uuid": "570baf5dbbf8ef9b4b52d38d84339fd8651c5ee2",
        "collapsed": true
      },
      "cell_type": "code",
      "source": "# Balancing the iNtuition vs Sensing Class \nX_res_n, y_res_n = ros.fit_sample(X, y_n)",
      "execution_count": null,
      "outputs": []
    },
    {
      "metadata": {
        "trusted": true,
        "_uuid": "d788321fd9bf3b0844b3731692fa8ed71a9f50c2",
        "collapsed": true
      },
      "cell_type": "code",
      "source": "X_res_n.shape",
      "execution_count": null,
      "outputs": []
    },
    {
      "metadata": {
        "trusted": true,
        "_uuid": "a944e483a1fe0580916e4a1d2376d54ace35e1b7",
        "collapsed": true
      },
      "cell_type": "code",
      "source": "X_res_n.shape",
      "execution_count": null,
      "outputs": []
    },
    {
      "metadata": {
        "trusted": true,
        "collapsed": true,
        "_uuid": "1c4143fbedc1be0706d9b3fcee72bc690ee6364d"
      },
      "cell_type": "code",
      "source": "n = 5000\nX_train_n, X_test_n, y_train_n, y_test_n = train_test_split(X_res_n[:n].toarray(), y_res_n[:n])",
      "execution_count": null,
      "outputs": []
    },
    {
      "metadata": {
        "trusted": true,
        "_uuid": "b64e2fa6bb8ae0f10f536545734e430c804cabad",
        "collapsed": true
      },
      "cell_type": "code",
      "source": "# Balancing the Feeling vs Thinking Class\nX_res_f, y_res_f = ros.fit_sample(X, y_f)",
      "execution_count": null,
      "outputs": []
    },
    {
      "metadata": {
        "trusted": true,
        "_uuid": "2bc86c107d2647602ed51f3b81b19eb2ec7d84fe",
        "collapsed": true
      },
      "cell_type": "code",
      "source": "X_res_f.shape",
      "execution_count": null,
      "outputs": []
    },
    {
      "metadata": {
        "trusted": true,
        "_uuid": "6cbb20307a1969f445254936e440fa193c59320b",
        "collapsed": true
      },
      "cell_type": "code",
      "source": "y_res_f.shape",
      "execution_count": null,
      "outputs": []
    },
    {
      "metadata": {
        "trusted": true,
        "_uuid": "b1b6390da8faca4b10fe9ddf836356adebe4f046",
        "collapsed": true
      },
      "cell_type": "code",
      "source": "# Balancing the perception vs Judgement Class\nX_res_p, y_res_p = ros.fit_sample(X, y_p)",
      "execution_count": null,
      "outputs": []
    },
    {
      "metadata": {
        "trusted": true,
        "_uuid": "f17e382a61b8a6393d035e1fce04f3d64343b62d",
        "collapsed": true
      },
      "cell_type": "code",
      "source": "X_res_p.shape",
      "execution_count": null,
      "outputs": []
    },
    {
      "metadata": {
        "trusted": true,
        "_uuid": "be7a5d0312b0b4c1f1cea5fea934bd463285c6bd",
        "collapsed": true
      },
      "cell_type": "code",
      "source": "y_res_p.shape",
      "execution_count": null,
      "outputs": []
    },
    {
      "metadata": {
        "_uuid": "480744016bd80b4bafc6e5735943bce28dc6ad18"
      },
      "cell_type": "markdown",
      "source": "## 4.4 Import Model"
    },
    {
      "metadata": {
        "trusted": true,
        "collapsed": true,
        "_uuid": "3d204ed3c8e5daf8ff5adba62faf30bccc4771e8"
      },
      "cell_type": "code",
      "source": "import pandas as pd\nimport numpy as np\nimport matplotlib.pyplot as plt\n%matplotlib inline\nfrom matplotlib.colors import ListedColormap\n\n# to automate the NLP extraction...\nfrom sklearn.feature_extraction.text import CountVectorizer\n\n# Cross_val_score is the new class for today...\nfrom sklearn.model_selection import cross_val_score\nfrom sklearn.model_selection import train_test_split\nfrom sklearn import metrics\n\nfrom sklearn.preprocessing import StandardScaler\nfrom sklearn.datasets import make_moons, make_circles, make_classification\n\n# main ones to focus on for this sprint\nfrom sklearn.linear_model import LogisticRegression\nfrom sklearn.neighbors import KNeighborsClassifier\nfrom sklearn.svm import SVC\nfrom sklearn.naive_bayes import GaussianNB\nfrom sklearn.discriminant_analysis import LinearDiscriminantAnalysis\nfrom sklearn.discriminant_analysis import QuadraticDiscriminantAnalysis\n\n# Covered in sprint 3\nfrom sklearn.tree import DecisionTreeClassifier\nfrom sklearn.ensemble import RandomForestClassifier, AdaBoostClassifier\n\n# Covered in sprint 4\nfrom sklearn.gaussian_process import GaussianProcessClassifier\nfrom sklearn.gaussian_process.kernels import RBF\n\n# Neural Network!!\nfrom sklearn.neural_network import MLPClassifier\nfrom sklearn.ensemble import GradientBoostingClassifier\nimport xgboost as xgb",
      "execution_count": null,
      "outputs": []
    },
    {
      "metadata": {
        "trusted": true,
        "collapsed": true,
        "_uuid": "e63e1f7c7d21bff1273423fc9345988f37dd8dec"
      },
      "cell_type": "code",
      "source": "names = ['xgb','Logistic Regression', 'Nearest Neighbors',\n         'Linear SVM', 'RBF SVM',\n         'Naive Bayes', 'GBC', 'LDA', \"QDA\",\n         \"Decision Tree\", \"Random Forest\",  \"AdaBoost\",\n         \"Neural Net\"]",
      "execution_count": null,
      "outputs": []
    },
    {
      "metadata": {
        "trusted": true,
        "_uuid": "a5f3829d5f48422a6af6cf207045ff2d1123f31b",
        "collapsed": true
      },
      "cell_type": "code",
      "source": "classifiers = [\n    xgb.XGBClassifier(),\n    LogisticRegression(),\n    KNeighborsClassifier(3),\n    SVC(kernel=\"linear\", C=0.025),\n    SVC(kernel = 'rbf', gamma=1, C=1),\n    GaussianNB(),\n    GradientBoostingClassifier(n_estimators=20),\n    LinearDiscriminantAnalysis(),\n    QuadraticDiscriminantAnalysis(),\n    DecisionTreeClassifier(max_depth=5),\n    RandomForestClassifier(),\n    AdaBoostClassifier(),\n    MLPClassifier(hidden_layer_sizes=(400,), alpha=1, activation='relu', solver='adam',)\n]",
      "execution_count": null,
      "outputs": []
    },
    {
      "metadata": {
        "trusted": true,
        "collapsed": true,
        "_uuid": "ce18ac47255409c9ba723286caa8991be01735c5"
      },
      "cell_type": "markdown",
      "source": "> ### 4.4.1 Model Fitting and Training"
    },
    {
      "metadata": {
        "trusted": true,
        "_uuid": "e9ed37c14a095f574b56553ffe6b32edc759a3d2",
        "collapsed": true
      },
      "cell_type": "code",
      "source": "results = []\n\nmodels = {}\nconfusion = {}\nclass_report = {}\n\n\nfor name, clf in zip(names, classifiers):\n    print ('Fitting {:s} model...'.format(name))\n    run_time = %timeit -q -o clf.fit(X_train_n, y_train_n)\n\n    print ('... predicting')\n    y_pred = clf.predict(X_test_n)\n    y_pred_test = clf.predict(X_test_n)\n\n    print ('... scoring')\n    accuracy  = metrics.accuracy_score(y_test_n, y_pred)\n    precision = metrics.precision_score(y_test_n, y_pred)\n    recall    = metrics.recall_score(y_test_n, y_pred)\n\n    f1        = metrics.f1_score(y_test_n, y_pred)\n    f1_test   = metrics.f1_score(y_test_n, y_pred_test)\n\n    # save the results to dictionaries\n    models[name] = clf\n    confusion[name] = metrics.confusion_matrix(y_test_n, y_pred)\n    class_report[name] = metrics.classification_report(y_test_n, y_pred)\n\n    results.append([name, accuracy, precision, recall, f1, f1_test, run_time.best])\n\n\nresults = pd.DataFrame(results, columns=['Classifier', 'Accuracy', 'Precision', 'Recall', 'F1 Train', 'F1 Test', 'Train Time'])\nresults.set_index('Classifier', inplace= True)",
      "execution_count": null,
      "outputs": []
    },
    {
      "metadata": {
        "trusted": true,
        "_uuid": "df3cbbda776072e96e40d2e00b732ec0ae663699",
        "collapsed": true
      },
      "cell_type": "code",
      "source": "results.sort_values('F1 Train', ascending=False)",
      "execution_count": null,
      "outputs": []
    },
    {
      "metadata": {
        "trusted": true,
        "_uuid": "f590de205a6edd01d90df641746d80cc9e9be64e",
        "collapsed": true
      },
      "cell_type": "code",
      "source": "fig, ax = plt.subplots(1, 2, figsize=(10, 5))\nresults.sort_values('F1 Train', ascending=False, inplace=True)\nresults.plot(y=['F1 Test'], kind='bar', ax=ax[0], xlim=[0,1.1])\nresults.plot(y='Train Time', kind='bar', ax=ax[1])",
      "execution_count": null,
      "outputs": []
    },
    {
      "metadata": {
        "trusted": true,
        "collapsed": true,
        "_uuid": "ad8007eb2bf6dd5cf4fb165850675460b7c159e0"
      },
      "cell_type": "markdown",
      "source": "> ## 4.5 Model Validation and Evaluation"
    },
    {
      "metadata": {
        "trusted": true,
        "collapsed": true,
        "_uuid": "0a4dfba6e381c0713f0f060445a60344ae4eeee6"
      },
      "cell_type": "code",
      "source": "\ndef plot_confusion_matrix(cm, names, title='Confusion matrix', cmap=plt.cm.Blues):\n    \"\"\"\n    Plot a confusion matrix.\n    cm is the confusion matrix, names are the names of the classes.\n    \"\"\"\n    plt.imshow(cm, interpolation='nearest', cmap=cmap)\n    plt.title(title)\n    plt.colorbar()\n    tick_marks = np.arange(len(names))\n    plt.xticks(tick_marks, names, rotation=45)\n    plt.yticks(tick_marks, names)\n    plt.tight_layout()\n    plt.ylabel('True label')\n    plt.xlabel('Predicted label')",
      "execution_count": null,
      "outputs": []
    },
    {
      "metadata": {
        "trusted": true,
        "collapsed": true,
        "_uuid": "d6dd52207ad2b3483ec428980053c3d732488585"
      },
      "cell_type": "code",
      "source": "def plot_roc(pred,y):\n    \"\"\"\n    Plot an ROC. pred - the predictions, y - the expected output.\n    \"\"\"\n    fpr, tpr, _ = roc_curve(y, pred)\n    roc_auc = auc(fpr, tpr)\n\n    plt.figure()\n    plt.plot(fpr, tpr, label='ROC curve (area = %0.2f)' % roc_auc)\n    plt.plot([0, 1], [0, 1], 'k--')\n    plt.xlim([0.0, 1.0])\n    plt.ylim([0.0, 1.05])\n    plt.xlabel('False Positive Rate')\n    plt.ylabel('True Positive Rate')\n    plt.title('Receiver Operating Characteristic (ROC)')\n    plt.legend(loc=\"lower right\")\n   ",
      "execution_count": null,
      "outputs": []
    },
    {
      "metadata": {
        "_uuid": "66f51103422fed2c25df16ee3da0093d0f773fd7"
      },
      "cell_type": "markdown",
      "source": "###  Frome the results above I have 5 best performing models,\n### I am going to combine all of them and use a hard voting whereby predictions will be made based on what the majority of the models predict"
    },
    {
      "metadata": {
        "trusted": true,
        "_uuid": "12e4550e3ac4ba2d5666de59edc618b5b5a28f88",
        "collapsed": true
      },
      "cell_type": "code",
      "source": "group_essay = pd.read_csv('../input/group-essay/Essay_data.csv')",
      "execution_count": null,
      "outputs": []
    },
    {
      "metadata": {
        "trusted": true,
        "collapsed": true,
        "_uuid": "857cb9c222e61d5fc9d50d59be29939a510862f3"
      },
      "cell_type": "code",
      "source": "",
      "execution_count": null,
      "outputs": []
    },
    {
      "metadata": {
        "trusted": true,
        "collapsed": true,
        "_uuid": "7ae2e0b22564c2a1ce8973d6aa0a4cef1f1862bd"
      },
      "cell_type": "code",
      "source": "",
      "execution_count": null,
      "outputs": []
    },
    {
      "metadata": {
        "trusted": true,
        "collapsed": true,
        "_uuid": "9a7971e3e5a6b4f2b97c340010a418694290db83"
      },
      "cell_type": "code",
      "source": "mbti_test['posts'] = mbti_test['posts'].str.lower()",
      "execution_count": null,
      "outputs": []
    },
    {
      "metadata": {
        "trusted": true,
        "_uuid": "89e6941307ccfae7fc0f76c38853eb55f230db7c",
        "collapsed": true
      },
      "cell_type": "code",
      "source": "m = VotingClassifier(\n    estimators=[('sv', SVC(kernel='rbf', C=1, gamma=1)), \n                ('mp', MLPClassifier(hidden_layer_sizes=(400,), alpha=1, activation='relu', solver='adam',)),\n                ('xg', xgb.XGBClassifier(max_depth=3,n_estimators=50, learning_rate=1 )), \n                ('rf', RandomForestClassifier(n_estimators=300,   oob_score=False, warm_start=True)),\n                ('gb', GradientBoostingClassifier(n_estimators=20))], \n    voting='hard')",
      "execution_count": null,
      "outputs": []
    },
    {
      "metadata": {
        "_uuid": "815731225f733c867066887ba3ff04a2dffebf6b"
      },
      "cell_type": "markdown",
      "source": "# 5 Model Evaluation "
    },
    {
      "metadata": {
        "_uuid": "fc371b8701ca864aabc4a5912364411d612adaa5"
      },
      "cell_type": "markdown",
      "source": "> ## 5.1 Introvert vs Extrovert"
    },
    {
      "metadata": {
        "trusted": true,
        "collapsed": true,
        "_uuid": "8300f48b4166fe1d41d0e0d093253a3ae59fee84"
      },
      "cell_type": "code",
      "source": "n = 5000\nX_train_i, X_test_i, y_train_i, y_test_i = train_test_split(X_res_i[:n].toarray(), y_res_i[:n])",
      "execution_count": null,
      "outputs": []
    },
    {
      "metadata": {
        "trusted": true,
        "_uuid": "5322ffb4aa6c5c09e6ccba787ef5955b32361bd3",
        "collapsed": true
      },
      "cell_type": "code",
      "source": "m.fit(X_train_i, y_train_i)",
      "execution_count": null,
      "outputs": []
    },
    {
      "metadata": {
        "trusted": true,
        "collapsed": true,
        "_uuid": "bedb6dbeb6c2c15170974477dbf20b09fda23208"
      },
      "cell_type": "code",
      "source": "pred_i = m.predict(X_test_i)",
      "execution_count": null,
      "outputs": []
    },
    {
      "metadata": {
        "trusted": true,
        "_uuid": "a88095feb1d27107db93f81011313609c395635e",
        "collapsed": true
      },
      "cell_type": "code",
      "source": "print (confusion_matrix(y_test_i, pred_i))\ncm = (confusion_matrix(y_test_i, pred_i))\nnames = ['Introvert','Extrovert']\n\nplot_confusion_matrix(cm,names )",
      "execution_count": null,
      "outputs": []
    },
    {
      "metadata": {
        "trusted": true,
        "_uuid": "a043e140c0bdd22c746ef81400db63edbe91f4a8",
        "collapsed": true
      },
      "cell_type": "code",
      "source": "plot_roc(y_test_i, pred_i)",
      "execution_count": null,
      "outputs": []
    },
    {
      "metadata": {
        "_uuid": "7365d6c1e1ce6898f29494aa0b0bc3802e47196c"
      },
      "cell_type": "markdown",
      "source": "> ## 5.2 Intuition vs Sensing"
    },
    {
      "metadata": {
        "trusted": true,
        "collapsed": true,
        "_uuid": "129f06901cdb4ad025201f970b36384b46a28b4b"
      },
      "cell_type": "code",
      "source": "n = 5000\nX_train_n, X_test_n, y_train_n, y_test_n = train_test_split(X_res_n[:n].toarray(), y_res_n[:n])",
      "execution_count": null,
      "outputs": []
    },
    {
      "metadata": {
        "trusted": true,
        "_uuid": "05800673131d5a6b8246625015f84fb4a7734a22",
        "collapsed": true
      },
      "cell_type": "code",
      "source": "m.fit(X_train_n, y_train_n)",
      "execution_count": null,
      "outputs": []
    },
    {
      "metadata": {
        "trusted": true,
        "_uuid": "f273e88c90afbf9460142272202e33cfcaf1943a",
        "collapsed": true
      },
      "cell_type": "code",
      "source": "pred_n = m.predict(X_test_n)",
      "execution_count": null,
      "outputs": []
    },
    {
      "metadata": {
        "trusted": true,
        "_uuid": "a1732968a2bc51b0802e39dc41ceededa01e5272",
        "collapsed": true
      },
      "cell_type": "code",
      "source": "print (confusion_matrix(y_test_n, pred_n))\ncm = (confusion_matrix(y_test_n, pred_n))\nnames = ['Intuitive','Sense']\n\nplot_confusion_matrix(cm,names )",
      "execution_count": null,
      "outputs": []
    },
    {
      "metadata": {
        "trusted": true,
        "_uuid": "7c33f62d9b5896a9e5f2fe17406f4a555445602e",
        "collapsed": true
      },
      "cell_type": "code",
      "source": "plot_roc(y_test_n, pred_n)",
      "execution_count": null,
      "outputs": []
    },
    {
      "metadata": {
        "_uuid": "278d64fabf29a9e9ac9d6b89ff641cc804fa802f"
      },
      "cell_type": "markdown",
      "source": "> ## 5.3 Feeling vs Thinking"
    },
    {
      "metadata": {
        "trusted": true,
        "collapsed": true,
        "_uuid": "9dac4b6a0d3404d3ebd12701774a5c9929799c72"
      },
      "cell_type": "code",
      "source": "n = 5000\nX_train_f, X_test_f, y_train_f, y_test_f = train_test_split(X_res_f[:n].toarray(), y_res_f[:n])",
      "execution_count": null,
      "outputs": []
    },
    {
      "metadata": {
        "trusted": true,
        "_uuid": "76921975e938174e6159450a7046c966142a2a32",
        "collapsed": true
      },
      "cell_type": "code",
      "source": "m.fit(X_train_f, y_train_f)",
      "execution_count": null,
      "outputs": []
    },
    {
      "metadata": {
        "trusted": true,
        "_uuid": "630f58a06466751ef0fe10659bcd9d7f09546638",
        "collapsed": true
      },
      "cell_type": "code",
      "source": "pred_f = m.predict(X_test_f)",
      "execution_count": null,
      "outputs": []
    },
    {
      "metadata": {
        "trusted": true,
        "_uuid": "3986315444a722cb64c1e2a85b8a6e30ef6c2e3c",
        "collapsed": true
      },
      "cell_type": "code",
      "source": "print (confusion_matrix(y_test_f, pred_f))\ncm = (confusion_matrix(y_test_f, pred_f))\nnames = ['Feel','Think']\n\nplot_confusion_matrix(cm,names )",
      "execution_count": null,
      "outputs": []
    },
    {
      "metadata": {
        "trusted": true,
        "_uuid": "f06b84e9627ef2d0c969f5e1b289298dec7d6e8c",
        "collapsed": true
      },
      "cell_type": "code",
      "source": "plot_roc(y_test_f, pred_f)",
      "execution_count": null,
      "outputs": []
    },
    {
      "metadata": {
        "_uuid": "dda308643c0a59793f9b1cec8f9d26b76ea9d774"
      },
      "cell_type": "markdown",
      "source": "> ## 5.4 Perception vs Judging"
    },
    {
      "metadata": {
        "trusted": true,
        "collapsed": true,
        "_uuid": "364d588da44f9ca5419b4375d96ac6d71940241f"
      },
      "cell_type": "code",
      "source": "n = 5000\nX_train_p, X_test_p, y_train_p, y_test_p = train_test_split(X_res_p[:n].toarray(), y_res_p[:n])",
      "execution_count": null,
      "outputs": []
    },
    {
      "metadata": {
        "trusted": true,
        "_uuid": "21fce272c01d29d3c041376a207389456acc54fb",
        "collapsed": true
      },
      "cell_type": "code",
      "source": "m.fit(X_train_p, y_train_p)",
      "execution_count": null,
      "outputs": []
    },
    {
      "metadata": {
        "trusted": true,
        "_uuid": "b2c965c7ec7a796efb02860c318480820165a3aa",
        "collapsed": true
      },
      "cell_type": "code",
      "source": "pred_p = m.predict(X_test_p)",
      "execution_count": null,
      "outputs": []
    },
    {
      "metadata": {
        "trusted": true,
        "_uuid": "82ec3fbf25a1bcd81c84068316a3ad9a34059ff2",
        "collapsed": true
      },
      "cell_type": "code",
      "source": "\nprint (confusion_matrix(y_test_p, pred_p))\ncm = (confusion_matrix(y_test_p, pred_p))\nnames = ['Percieve','Judge']\n\nplot_confusion_matrix(cm,names )",
      "execution_count": null,
      "outputs": []
    },
    {
      "metadata": {
        "trusted": true,
        "_uuid": "bffda3d68152d6202252964a999a4cf6e8498c20",
        "collapsed": true
      },
      "cell_type": "code",
      "source": "plot_roc(y_test_p, pred_p)",
      "execution_count": null,
      "outputs": []
    },
    {
      "metadata": {
        "trusted": true,
        "collapsed": true,
        "_uuid": "79455b7ca2dca64399a8e699235fa9986a35e23d"
      },
      "cell_type": "markdown",
      "source": "# 6 Test Data"
    },
    {
      "metadata": {
        "_uuid": "1acb28253ebceb9c13cda45fef6e61044814baa1"
      },
      "cell_type": "markdown",
      "source": "> ## 6.1 Test Data Normalization"
    },
    {
      "metadata": {
        "trusted": true,
        "collapsed": true,
        "_uuid": "fd08df2c1f41dc8a462fc0354b5d53cd3eb3c108"
      },
      "cell_type": "code",
      "source": "test_data = pd.read_csv('../input/group-essay/Essay_data.csv')",
      "execution_count": null,
      "outputs": []
    },
    {
      "metadata": {
        "trusted": true,
        "_uuid": "fca6e7cb6d71d17adc47c018e132ed89b3eb2607",
        "collapsed": true
      },
      "cell_type": "code",
      "source": "test_data.dropna()\ntest_data.head()",
      "execution_count": null,
      "outputs": []
    },
    {
      "metadata": {
        "trusted": true,
        "_uuid": "33ad58e9b3bf24e5d101b52f4aaaa10fa7281dc6",
        "collapsed": true
      },
      "cell_type": "code",
      "source": "test_data['posts'] = test_data['posts'].apply(lambda x: x.replace('|||', ' '))",
      "execution_count": null,
      "outputs": []
    },
    {
      "metadata": {
        "trusted": true,
        "_uuid": "2fc5dc0d481cff541e2b88c700e073decb74e03e",
        "collapsed": true
      },
      "cell_type": "code",
      "source": "test_data.remane",
      "execution_count": null,
      "outputs": []
    },
    {
      "metadata": {
        "trusted": true,
        "_uuid": "d13932f300f3a338d65c85e2f0b1e84dc0e3bf09",
        "collapsed": true
      },
      "cell_type": "code",
      "source": "test = test_data.dropna()",
      "execution_count": null,
      "outputs": []
    },
    {
      "metadata": {
        "trusted": true,
        "_uuid": "bcff7a82f0d0af3eab4d88b414dc41f6d9175675",
        "collapsed": true
      },
      "cell_type": "code",
      "source": "\n#test_data['posts'] = test_data['posts'].apply(lambda x: x.replace('|||', ' '))\n## read the data\nmbti_test = test_data\n\n## remove urls\n# pattern_url = r'http[s]?://(?:[A-Za-z]|[0-9]|[$-_@.&+]|[!*\\(\\),]|(?:%[0-9A-Fa-f][0-9A-Fa-f]))+'\n# subs_url = r'urlweb'\n# mbti_test['posts'] = mbti_test['posts'].replace(to_replace = pattern_url, value = subs_url, regex = True)\n\n# make lower case\nmbti_test['Essay'] = mbti_test['Essay'].str.lower()\n\n#remove punctuation\nimport string\ndef remove_punctuation_numbers(post):\n    punc_numbers = string.punctuation + '0123456789'\n    return ''.join([l for l in post if l not in punc_numbers])\nmbti_test['Essay'] = mbti_test['Essay'].apply(remove_punctuation_numbers)",
      "execution_count": null,
      "outputs": []
    },
    {
      "metadata": {
        "trusted": true,
        "_uuid": "3d845d5b0903cc5af98f90da8f65f94612e484c8",
        "collapsed": true
      },
      "cell_type": "code",
      "source": "mbti_test.head()",
      "execution_count": null,
      "outputs": []
    },
    {
      "metadata": {
        "trusted": true,
        "_uuid": "ed8d4e4574ab3cb64a2f4001d964d2dcfd376db3",
        "collapsed": true
      },
      "cell_type": "code",
      "source": "mbti_test['post_length'] = mbti_test['Essay'].apply(len)",
      "execution_count": null,
      "outputs": []
    },
    {
      "metadata": {
        "trusted": true,
        "_uuid": "527ca450c748943799c8677a5f29364ff6be098a",
        "collapsed": true
      },
      "cell_type": "code",
      "source": "mbti_test.head()",
      "execution_count": null,
      "outputs": []
    },
    {
      "metadata": {
        "trusted": true,
        "_uuid": "496ca0b956a3eeec68f4339907ca360ae8987dd2",
        "collapsed": true
      },
      "cell_type": "code",
      "source": "tokeniser = TreebankWordTokenizer()\ntest_data['tokens'] = test_data['Essay'].apply(tokeniser.tokenize)",
      "execution_count": null,
      "outputs": []
    },
    {
      "metadata": {
        "trusted": true,
        "_uuid": "7184138781677441c6932478318357938817a126",
        "collapsed": true
      },
      "cell_type": "code",
      "source": "mbti_test.drop('type', axis=1, inplace=True)",
      "execution_count": null,
      "outputs": []
    },
    {
      "metadata": {
        "trusted": true,
        "_uuid": "8dde2622e0b20a6678e045e1e433e238fb8a9e66",
        "collapsed": true
      },
      "cell_type": "code",
      "source": "mbti_test.head()",
      "execution_count": null,
      "outputs": []
    },
    {
      "metadata": {
        "trusted": true,
        "collapsed": true,
        "_uuid": "91cff18cdfe93e10e11abc4095dbadad492c1e4d"
      },
      "cell_type": "code",
      "source": "# find the stem of each word in words\nstemmer = SnowballStemmer('english')\n\ndef mbti_stemmer(words, stemmer):\n    return [stemmer.stem(word) for word in words] \n\n# stem all words in the mbti dataframe\nmbti_test['stem'] = mbti_test['tokens'].apply(mbti_stemmer, args=(stemmer, ))",
      "execution_count": null,
      "outputs": []
    },
    {
      "metadata": {
        "trusted": true,
        "_uuid": "751ac76af51ca9369d0b075bc66fa37fd538f711",
        "collapsed": true
      },
      "cell_type": "code",
      "source": "mbti_test.drop('tokens', axis=1, inplace=True)\nmbti_test.head()",
      "execution_count": null,
      "outputs": []
    },
    {
      "metadata": {
        "trusted": true,
        "collapsed": true,
        "_uuid": "eef7f0e5dfd4081fde2104a0c7d1ca228f7decdc"
      },
      "cell_type": "code",
      "source": "lemmatizer = WordNetLemmatizer()\ndef mbti_lemma(words, lemmatizer):\n    return [lemmatizer.lemmatize(word, pos='v') for word in words]\n\n# lemmatize all words in dataframe\nmbti_test['lemma'] = mbti_test['stem'].apply(mbti_lemma, args=(lemmatizer, ))",
      "execution_count": null,
      "outputs": []
    },
    {
      "metadata": {
        "trusted": true,
        "_uuid": "7ad91b83c754476cd20d4d6a86a52bc9595f6689",
        "collapsed": true
      },
      "cell_type": "code",
      "source": "mbti_test.drop('stem', axis=1, inplace=True)\nmbti_test.head()",
      "execution_count": null,
      "outputs": []
    },
    {
      "metadata": {
        "trusted": true,
        "collapsed": true,
        "_uuid": "09d3d2ed754991db5a0e61aa198b2ea9f183271c"
      },
      "cell_type": "code",
      "source": "def remove_stop_words(tokens):    \n    return [t for t in tokens if t not in stopset]\n\nmbti_test['stem_stop'] = mbti_test['lemma'].apply(remove_stop_words)",
      "execution_count": null,
      "outputs": []
    },
    {
      "metadata": {
        "trusted": true,
        "_uuid": "e6a893e9f0654170063cbbc01b85dcc9b3dc5be2",
        "collapsed": true
      },
      "cell_type": "code",
      "source": "mbti_test.drop('lemma', axis=1, inplace=True)\nmbti_test.head()",
      "execution_count": null,
      "outputs": []
    },
    {
      "metadata": {
        "trusted": true,
        "collapsed": true,
        "_uuid": "7b96a0602c5951e5d145a7062d73d531e652df1f"
      },
      "cell_type": "code",
      "source": "def join_string(tokens):\n    return \" \".join(str(token) for token in tokens) \n\nmbti_test['join_stop'] = mbti_test['stem_stop'].apply(join_string)",
      "execution_count": null,
      "outputs": []
    },
    {
      "metadata": {
        "trusted": true,
        "_uuid": "886794f942292767328302629538c5d4bb8fef13",
        "collapsed": true
      },
      "cell_type": "code",
      "source": "mbti_test.drop('stem_stop', axis=1, inplace=True)\nmbti_test.head()",
      "execution_count": null,
      "outputs": []
    },
    {
      "metadata": {
        "trusted": true,
        "_uuid": "9cd89b0214991570d7d0b3977515b4e3b3ac6efa",
        "collapsed": true
      },
      "cell_type": "code",
      "source": "mbti_test.describe()",
      "execution_count": null,
      "outputs": []
    },
    {
      "metadata": {
        "trusted": true,
        "_uuid": "0b1018467292dfc7ef09d78192ed1c761a138639",
        "collapsed": true
      },
      "cell_type": "code",
      "source": "mu, sigma = 138, 65\n# the histogram of the data\nn, bins, patches = plt.hist(mbti_test['post_length'], facecolor='green', alpha=0.75)\nplt.xlabel('Post Character Length')\nplt.title(r'$\\mathrm{Distribution\\ of\\ Post\\ Length:}\\ \\mu=6666,\\ \\sigma=1566$')\nplt.axis([0, 9582, 0, 600])\nplt.ylabel('Count')\nplt.grid(True)\nplt.show()",
      "execution_count": null,
      "outputs": []
    },
    {
      "metadata": {
        "trusted": true,
        "_uuid": "b0bcb79331b42194bfca686ce8857a0217732e87",
        "collapsed": true
      },
      "cell_type": "code",
      "source": "plt.figure(figsize=(20,10))\nwordcloud = WordCloud(background_color='white', mode = \"RGB\", width = 2000, height=1000).generate(str(mbti_test['join_stop']))\nplt.title(\"MBTI_TEST_DATA\")\nplt.imshow(wordcloud)\nplt.axis(\"off\")\nplt.show()",
      "execution_count": null,
      "outputs": []
    },
    {
      "metadata": {
        "trusted": true,
        "_uuid": "f808547af4a8b5516fffc39aeda215273001e702",
        "collapsed": true
      },
      "cell_type": "code",
      "source": "#vect = CountVectorizer(min_df= .01)\nX_test_data = vect.transform(mbti_test['join_stop'])",
      "execution_count": null,
      "outputs": []
    },
    {
      "metadata": {
        "trusted": true,
        "_uuid": "e9c708cecc7dc705204af18af7c63fbe7fa00e15",
        "collapsed": true
      },
      "cell_type": "code",
      "source": "X_test_data.shape",
      "execution_count": null,
      "outputs": []
    },
    {
      "metadata": {
        "_uuid": "ef48dea46d0070caac2243a04b4d206d79703a6f"
      },
      "cell_type": "markdown",
      "source": "> ## 6.2 Test Predictions"
    },
    {
      "metadata": {
        "_uuid": "1f0cefea6427882f3159027ea6c2772ec86d37f8"
      },
      "cell_type": "markdown",
      "source": "> ## 6.2.1 Introvert Vs Extrovert"
    },
    {
      "metadata": {
        "trusted": true,
        "_uuid": "b5a8af961653abb32ebd1602ae13903a9661ccfb",
        "collapsed": true
      },
      "cell_type": "code",
      "source": "model_i = m.fit(X_res_i[:30000], y_res_i[:30000])",
      "execution_count": null,
      "outputs": []
    },
    {
      "metadata": {
        "trusted": true,
        "collapsed": true,
        "_uuid": "2d47a544498542d02e23f63e63db4f9829fbb5c6"
      },
      "cell_type": "code",
      "source": "pred_i = model_i.predict(X_test_data)",
      "execution_count": null,
      "outputs": []
    },
    {
      "metadata": {
        "trusted": true,
        "_uuid": "e6a7b26caa9efccc2d24f889a1819a60d6631c0e",
        "collapsed": true
      },
      "cell_type": "code",
      "source": "len(pred_i)",
      "execution_count": null,
      "outputs": []
    },
    {
      "metadata": {
        "trusted": true,
        "_uuid": "f7fa072be8c7931a79215579c0bb311c7b8edd07",
        "collapsed": true
      },
      "cell_type": "code",
      "source": "pred_i[:10]",
      "execution_count": null,
      "outputs": []
    },
    {
      "metadata": {
        "trusted": true,
        "collapsed": true,
        "_uuid": "586ebb03e2c803d82a12f1489afeeb8bb3896605"
      },
      "cell_type": "code",
      "source": "res_i = []\nfor i in pred_i:\n    if i==1:\n        res_i.append('E')\n        \n    else:\n        res_i.append('I')",
      "execution_count": null,
      "outputs": []
    },
    {
      "metadata": {
        "trusted": true,
        "_uuid": "a0e60859e3d72779d3ca0876e16ff1a41bfbbc05",
        "collapsed": true
      },
      "cell_type": "code",
      "source": "res_i[:10]",
      "execution_count": null,
      "outputs": []
    },
    {
      "metadata": {
        "_uuid": "773839c3858419975584ac8c9fa5d22f90e1dd52"
      },
      "cell_type": "markdown",
      "source": "> ## 6.2.2 Intuitive Vs Sensing"
    },
    {
      "metadata": {
        "trusted": true,
        "collapsed": true,
        "_uuid": "4bdc72cde9f338909203c9db9f6717684928c8b2"
      },
      "cell_type": "code",
      "source": "model_n = m.fit(X_res_n[:30000], y_res_n[:30000])",
      "execution_count": null,
      "outputs": []
    },
    {
      "metadata": {
        "trusted": true,
        "_uuid": "92cf78868aa9439b81fedcdae60c1437a239bdb3",
        "collapsed": true
      },
      "cell_type": "code",
      "source": "pred_n = model_n.predict(X_test_data)",
      "execution_count": null,
      "outputs": []
    },
    {
      "metadata": {
        "trusted": true,
        "_uuid": "35dea1c1089072808f5025a098ad94bcf7db4701",
        "collapsed": true
      },
      "cell_type": "code",
      "source": "len(pred_n)",
      "execution_count": null,
      "outputs": []
    },
    {
      "metadata": {
        "trusted": true,
        "collapsed": true,
        "_uuid": "fc455e605c80ca5498c63f1a4ecc0091e46aca78"
      },
      "cell_type": "code",
      "source": "res_n = []\nfor i in pred_n:\n    if i==1:\n        res_n.append('N')\n        \n    else:\n        res_n.append('S')",
      "execution_count": null,
      "outputs": []
    },
    {
      "metadata": {
        "_uuid": "7e96fcccc734bb5559911230f545fb47a3761877"
      },
      "cell_type": "markdown",
      "source": "> ## 6.2.3 Feel Vs Thinking"
    },
    {
      "metadata": {
        "trusted": true,
        "collapsed": true,
        "_uuid": "6d8830deb6c518ae4fc62e97fda39731d5ab37f7"
      },
      "cell_type": "code",
      "source": "model_f = m.fit(X_res_f[:30000], y_res_f[:30000])",
      "execution_count": null,
      "outputs": []
    },
    {
      "metadata": {
        "trusted": true,
        "collapsed": true,
        "_uuid": "1459951d689ea6453c899ad6f5a184ae2920910a"
      },
      "cell_type": "code",
      "source": "pred_f = model_f.predict(X_test_data)",
      "execution_count": null,
      "outputs": []
    },
    {
      "metadata": {
        "trusted": true,
        "_uuid": "7cc6549427b9264c885c6b4cee80c9c4d8486360",
        "collapsed": true
      },
      "cell_type": "code",
      "source": "len(pred_f)",
      "execution_count": null,
      "outputs": []
    },
    {
      "metadata": {
        "trusted": true,
        "collapsed": true,
        "_uuid": "284ddebc4f2953ac4e4b227972652ed7840fa648"
      },
      "cell_type": "code",
      "source": "res_f = []\nfor i in pred_f:\n    if i==1:\n        res_f.append('T')\n        \n    else:\n        res_f.append('F')",
      "execution_count": null,
      "outputs": []
    },
    {
      "metadata": {
        "trusted": true,
        "collapsed": true,
        "_uuid": "46470563e199bedd27a4f4720c450c8b278d53b9"
      },
      "cell_type": "markdown",
      "source": "> ## 6.2.4 Perceive Vs Judge"
    },
    {
      "metadata": {
        "trusted": true,
        "_uuid": "2510a2e80395f83aaeabea2ed1b4c3a88e9a7dff",
        "collapsed": true
      },
      "cell_type": "code",
      "source": "model_p = m.fit(X_res_p[:30000], y_res_p[:30000])",
      "execution_count": null,
      "outputs": []
    },
    {
      "metadata": {
        "trusted": true,
        "_uuid": "af7b9505010dc116c9124c83a5b448535b0cd94b",
        "collapsed": true
      },
      "cell_type": "code",
      "source": "pred_p = model_p.predict(X_test_data)",
      "execution_count": null,
      "outputs": []
    },
    {
      "metadata": {
        "trusted": true,
        "_uuid": "10a81a788e3be03f8131f49c72d1376ebf99e27e",
        "collapsed": true
      },
      "cell_type": "code",
      "source": "len(pred_p)",
      "execution_count": null,
      "outputs": []
    },
    {
      "metadata": {
        "trusted": true,
        "_uuid": "cf6b32a63fe309f1c4bcf04d24a91f79e63773a8",
        "collapsed": true
      },
      "cell_type": "code",
      "source": "res_p = []\nfor i in pred_p:\n    if i==1:\n        res_p.append('J')\n        \n    else:\n        res_p.append('P')",
      "execution_count": null,
      "outputs": []
    },
    {
      "metadata": {
        "trusted": true,
        "_uuid": "f1aa2388cb3eb070346d23d5d0034c6167d9bbd6",
        "collapsed": true
      },
      "cell_type": "code",
      "source": "res_i = np.array(res_i)\nres_n = np.array(res_n)\nres_f = np.array(res_f)\nres_p = np.array(res_p)",
      "execution_count": null,
      "outputs": []
    },
    {
      "metadata": {
        "trusted": true,
        "collapsed": true,
        "_uuid": "658a8355d669579fd01aea1115ddccef59b1d6e1"
      },
      "cell_type": "code",
      "source": "res_i = res_i.reshape(2169,1)\nres_n = res_n.reshape(2169,1)\nres_f = res_f.reshape(2169,1)\nres_p = res_p.reshape(2169,1)",
      "execution_count": null,
      "outputs": []
    },
    {
      "metadata": {
        "trusted": true,
        "_uuid": "57f4704a4f48f2dc07b8da63fd4a2ab054ed003e",
        "collapsed": true
      },
      "cell_type": "code",
      "source": "results = np.concatenate((res_i, res_n, res_f, res_p), axis=1 )\n",
      "execution_count": null,
      "outputs": []
    },
    {
      "metadata": {
        "trusted": true,
        "collapsed": true,
        "_uuid": "d6aa11bb42bbd02246bf38132875906b86c62de3"
      },
      "cell_type": "code",
      "source": "results = pd.DataFrame(results)",
      "execution_count": null,
      "outputs": []
    },
    {
      "metadata": {
        "trusted": true,
        "_uuid": "23d9488370ae614ebf342404568110946fe0071d",
        "collapsed": true
      },
      "cell_type": "code",
      "source": "results.head()",
      "execution_count": null,
      "outputs": []
    },
    {
      "metadata": {
        "trusted": true,
        "_uuid": "ecee9c001efcd8f3219c2134cc66c2b29bffc09f",
        "collapsed": true
      },
      "cell_type": "code",
      "source": "results.describe()",
      "execution_count": null,
      "outputs": []
    },
    {
      "metadata": {
        "trusted": true,
        "collapsed": true,
        "_uuid": "25d83426231fa30a7b9faf86f290bacb3757ee8c"
      },
      "cell_type": "code",
      "source": "results.to_csv('Tshepo_Moagi.csv', index=False)",
      "execution_count": null,
      "outputs": []
    },
    {
      "metadata": {
        "trusted": true,
        "collapsed": true,
        "_uuid": "1d9799d03d7242d94577eab8fbf3b600442f2754"
      },
      "cell_type": "markdown",
      "source": "# 7. Extras"
    },
    {
      "metadata": {
        "trusted": true,
        "collapsed": true,
        "_uuid": "3bdccaf027250ca3cbd81cbc985372c24f6c537b"
      },
      "cell_type": "markdown",
      "source": "* Additional pre-processing perfomed on this data was removing long words that turned out to be noise. I updated the stopwords with words that were missed the first round.\n* Plotting  `word cloud` enables you to see the most frequent words, and also whether the stop words were removed or not, and lastly the effects of lemmatizing and and stemming. It is an essential NLP visual aid.\n* I used the models from the train in addition I used `XGBoost` and bundled the best 5 models into a `voting classifier`, whereby each model makes a prediction but the final prediction is the one that the majority of the models predicted.\n* Instead of printing out the confusion matrix I also plotted it in a heatmap as a visual aid.\n* In order for a model to be better than a random guesser, it has to have `auc` that is greater than 0.5, so alongside the confusion matrix, I plotted an `roc` chart\n* I used an upsampling method to balance the data."
    },
    {
      "metadata": {
        "trusted": true,
        "collapsed": true,
        "_uuid": "dafe8d2b95f8ca36eff53e32395a10c85a4d673b"
      },
      "cell_type": "code",
      "source": "df_test = pd.read_csv('../input/group-essay/Essay_data.csv')",
      "execution_count": null,
      "outputs": []
    },
    {
      "metadata": {
        "trusted": true,
        "_uuid": "b81db465c3646ff81f2c89456add48da9546e5ab",
        "collapsed": true
      },
      "cell_type": "code",
      "source": "df_test.head()",
      "execution_count": null,
      "outputs": []
    },
    {
      "metadata": {
        "trusted": true,
        "collapsed": true,
        "_uuid": "84bd42c249db49f9f8edb58501f2753b654e068c"
      },
      "cell_type": "code",
      "source": "\n# make lower case\ndf_test['Essay'] = df_test['Essay'].str.lower()",
      "execution_count": null,
      "outputs": []
    },
    {
      "metadata": {
        "trusted": true,
        "_uuid": "20a26f0819119ce6904d9c9a6e7cbaa49841580a",
        "collapsed": true
      },
      "cell_type": "code",
      "source": "df_test = df_test.dropna()",
      "execution_count": null,
      "outputs": []
    },
    {
      "metadata": {
        "trusted": true,
        "collapsed": true,
        "_uuid": "66df79c246858aa799dbe0991314393ac25e22c8"
      },
      "cell_type": "code",
      "source": "import string\ndef remove_punctuation_numbers(post):\n    punc_numbers = string.punctuation + '0123456789'\n    return ''.join([l for l in post if l not in punc_numbers])\ndf_test['Essay'] = df_test['Essay'].apply(remove_punctuation_numbers)",
      "execution_count": null,
      "outputs": []
    },
    {
      "metadata": {
        "trusted": true,
        "_uuid": "f8923a906e1dfe55799b537cf80dd1e1250dcf4f",
        "collapsed": true
      },
      "cell_type": "code",
      "source": "df_test.head()",
      "execution_count": null,
      "outputs": []
    },
    {
      "metadata": {
        "trusted": true,
        "_uuid": "17e2c3b85248d7e81c662f4176c68d6bf0e1e296",
        "collapsed": true
      },
      "cell_type": "code",
      "source": "plt.figure(figsize=(20,10))\nwordcloud = WordCloud(background_color='white', mode = \"RGB\", width = 2000, height=1000).generate(str(df_test['Essay']))\nplt.title(\"Academy Group Essay\")\nplt.imshow(wordcloud)\nplt.axis(\"off\")\nplt.show()",
      "execution_count": null,
      "outputs": []
    },
    {
      "metadata": {
        "trusted": true,
        "collapsed": true,
        "_uuid": "f62b8c2dd5bbaa4526cb371970bcf7febeb703d8"
      },
      "cell_type": "code",
      "source": "y_i = df_test['I/E']\ny_n = df_test['N/S']\ny_f = df_test['T/F']\ny_p = df_test['J/P']",
      "execution_count": null,
      "outputs": []
    },
    {
      "metadata": {
        "trusted": true,
        "collapsed": true,
        "_uuid": "cd7927ef0102e878753d64cbfe82d070b70f7010"
      },
      "cell_type": "code",
      "source": "X_Group = vect.transform(df_test['Essay'])",
      "execution_count": null,
      "outputs": []
    },
    {
      "metadata": {
        "_uuid": "5c4073c3a9c324d261b59f56fb2d9fedbbf9a0c1"
      },
      "cell_type": "markdown",
      "source": "# Introvert Group"
    },
    {
      "metadata": {
        "trusted": true,
        "collapsed": true,
        "_uuid": "7525b3b11e0c7b6fb52c6a6739579b69d6bd3cf2"
      },
      "cell_type": "code",
      "source": "pred_i = model_i.predict(X_Group)",
      "execution_count": null,
      "outputs": []
    },
    {
      "metadata": {
        "trusted": true,
        "_uuid": "7668879cce89e9c4e28202f48eab5072113e3629",
        "collapsed": true
      },
      "cell_type": "code",
      "source": "len(pred_i)",
      "execution_count": null,
      "outputs": []
    },
    {
      "metadata": {
        "trusted": true,
        "_uuid": "43966549df053f929145add52df00a87c6c15cbb",
        "collapsed": true
      },
      "cell_type": "code",
      "source": "res_i = []\nfor i in pred_i:\n    if i==1:\n        res_i.append('I')\n        \n    else:\n        res_i.append('E')",
      "execution_count": null,
      "outputs": []
    },
    {
      "metadata": {
        "trusted": true,
        "_uuid": "a3b4cb5fa14bf82b9e69b1fb2226afb30cc59022",
        "collapsed": true
      },
      "cell_type": "code",
      "source": "print (confusion_matrix(y_i, res_i))",
      "execution_count": null,
      "outputs": []
    },
    {
      "metadata": {
        "_uuid": "e7b694836ba35a863334cdaef68788b0d5f87327"
      },
      "cell_type": "markdown",
      "source": "# Intuitive Group"
    },
    {
      "metadata": {
        "trusted": true,
        "collapsed": true,
        "_uuid": "74fa2b22fe23774f9aa806a89b8a67a630b5deac"
      },
      "cell_type": "code",
      "source": "pred_n = model_n.predict(X_Group)",
      "execution_count": null,
      "outputs": []
    },
    {
      "metadata": {
        "trusted": true,
        "_uuid": "ebce7cc0ca1381d7614b02b84cb7b7c0f33c4a0f",
        "collapsed": true
      },
      "cell_type": "code",
      "source": "len(pred_n)",
      "execution_count": null,
      "outputs": []
    },
    {
      "metadata": {
        "trusted": true,
        "collapsed": true,
        "_uuid": "6838546042475b31dd67471cc18651d738a1a224"
      },
      "cell_type": "code",
      "source": "res_n = []\nfor i in pred_n:\n    if i==1:\n        res_n.append('N')\n        \n    else:\n        res_n.append('S')",
      "execution_count": null,
      "outputs": []
    },
    {
      "metadata": {
        "trusted": true,
        "_uuid": "6188ccc37b54c88d0cb6448c2515533926868c53",
        "collapsed": true
      },
      "cell_type": "code",
      "source": "print (confusion_matrix(y_n, res_n))",
      "execution_count": null,
      "outputs": []
    },
    {
      "metadata": {
        "_uuid": "b155285935070efcad811381570ee712f0e939ed"
      },
      "cell_type": "markdown",
      "source": "# Feelers Group"
    },
    {
      "metadata": {
        "trusted": true,
        "collapsed": true,
        "_uuid": "47dba42df6f006ca605d16155d982acb31a0df65"
      },
      "cell_type": "code",
      "source": "pred_f = model_f.predict(X_Group)",
      "execution_count": null,
      "outputs": []
    },
    {
      "metadata": {
        "trusted": true,
        "_uuid": "63658851065686c252a27506c12d54aea9049cc6",
        "collapsed": true
      },
      "cell_type": "code",
      "source": "pred_f",
      "execution_count": null,
      "outputs": []
    },
    {
      "metadata": {
        "trusted": true,
        "_uuid": "87818dd650ad0cec40b754a012e13ca418a1d541",
        "collapsed": true
      },
      "cell_type": "code",
      "source": "len(y_f)",
      "execution_count": null,
      "outputs": []
    },
    {
      "metadata": {
        "trusted": true,
        "_uuid": "cd76bee1fc36e3da9790d094cd406380ce3a1252",
        "collapsed": true
      },
      "cell_type": "code",
      "source": "len(res_f)",
      "execution_count": null,
      "outputs": []
    },
    {
      "metadata": {
        "trusted": true,
        "_uuid": "d2b494d4b2111872b6292c52bab50bfd8072e3b1",
        "collapsed": true
      },
      "cell_type": "code",
      "source": "res_f = []\nfor i in pred_f:\n    if i==1:\n        res_f.append('F')\n        \n    else:\n        res_f.append('T')\nprint (confusion_matrix(y_f, res_f))",
      "execution_count": null,
      "outputs": []
    },
    {
      "metadata": {
        "trusted": true,
        "collapsed": true,
        "_uuid": "ee455338fb47fcd0df97da9d7e1bc8f35b0b3efb"
      },
      "cell_type": "code",
      "source": "",
      "execution_count": null,
      "outputs": []
    },
    {
      "metadata": {
        "trusted": true,
        "collapsed": true,
        "_uuid": "579e560670ce2d629b5ccab83930928b77f95c12"
      },
      "cell_type": "code",
      "source": "",
      "execution_count": null,
      "outputs": []
    },
    {
      "metadata": {
        "_uuid": "dc3a2ef1584c6b1078d8c1c127406abd985510c8"
      },
      "cell_type": "markdown",
      "source": "# Perceive Group"
    },
    {
      "metadata": {
        "trusted": true,
        "collapsed": true,
        "_uuid": "c9b9b249532b3bb965439f133a2f48b2117554a3"
      },
      "cell_type": "code",
      "source": "pred_p = model_p.predict(X_Group)",
      "execution_count": null,
      "outputs": []
    },
    {
      "metadata": {
        "trusted": true,
        "_uuid": "c07384994a0788ff4ea12433e72b41a0247fbfe4",
        "collapsed": true
      },
      "cell_type": "code",
      "source": "res_p = []\nfor i in pred_p:\n    if i==1:\n        res_p.append('P')\n        \n    else:\n        res_p.append('J')\nprint (confusion_matrix(y_p, res_p))",
      "execution_count": null,
      "outputs": []
    },
    {
      "metadata": {
        "trusted": true,
        "collapsed": true,
        "_uuid": "c5f01e61494ed95dca529f38969cc670cf8c61e4"
      },
      "cell_type": "code",
      "source": "",
      "execution_count": null,
      "outputs": []
    },
    {
      "metadata": {
        "trusted": true,
        "collapsed": true,
        "_uuid": "c7391be351689c449da063e9006be705b43f73ae"
      },
      "cell_type": "code",
      "source": "",
      "execution_count": null,
      "outputs": []
    },
    {
      "metadata": {
        "trusted": true,
        "collapsed": true,
        "_uuid": "af8ad0f1eecbbf3c9951ff02eebee614c28dffda"
      },
      "cell_type": "code",
      "source": "",
      "execution_count": null,
      "outputs": []
    }
  ],
  "metadata": {
    "kernelspec": {
      "display_name": "Python 3",
      "language": "python",
      "name": "python3"
    },
    "language_info": {
      "name": "python",
      "version": "3.6.5",
      "mimetype": "text/x-python",
      "codemirror_mode": {
        "name": "ipython",
        "version": 3
      },
      "pygments_lexer": "ipython3",
      "nbconvert_exporter": "python",
      "file_extension": ".py"
    }
  },
  "nbformat": 4,
  "nbformat_minor": 1
}